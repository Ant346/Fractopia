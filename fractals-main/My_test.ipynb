{
    "cells": [
        {
            "cell_type": "code",
            "execution_count": null,
            "source": [
                "import turtle\r\n",
                "my_t=turtle.Turtle()\r\n",
                "pen_width = 2   # толщина линии рисования (в пикселах)\r\n",
                "f_len = 10      # длина одного сегмента прямой (в пикселах)\r\n",
                "angle=90\r\n",
                "len_=20\r\n",
                "my_t.pensize(pen_width)\r\n",
                "my_t.left(angle)\r\n",
                "my_t.forward(len_)\r\n",
                "my_t.ht()          # скрываем черепашку\r\n",
                "turtle.done()        # чтобы окно не закрывалось после отрисовки"
            ],
            "outputs": [],
            "metadata": {}
        },
        {
            "cell_type": "code",
            "execution_count": null,
            "source": [
                "import random\r\n",
                "random()"
            ],
            "outputs": [
                {
                    "output_type": "error",
                    "ename": "Error",
                    "evalue": "Session cannot generate requests",
                    "traceback": [
                        "Error: Session cannot generate requests",
                        "at w.executeCodeCell (c:\\Users\\Ant\\.vscode\\extensions\\ms-toolsai.jupyter-2021.8.1236758218\\out\\client\\extension.js:90:327199)",
                        "at w.execute (c:\\Users\\Ant\\.vscode\\extensions\\ms-toolsai.jupyter-2021.8.1236758218\\out\\client\\extension.js:90:326520)",
                        "at w.start (c:\\Users\\Ant\\.vscode\\extensions\\ms-toolsai.jupyter-2021.8.1236758218\\out\\client\\extension.js:90:322336)",
                        "at runMicrotasks (<anonymous>)",
                        "at processTicksAndRejections (internal/process/task_queues.js:93:5)",
                        "at async t.CellExecutionQueue.executeQueuedCells (c:\\Users\\Ant\\.vscode\\extensions\\ms-toolsai.jupyter-2021.8.1236758218\\out\\client\\extension.js:90:336863)",
                        "at async t.CellExecutionQueue.start (c:\\Users\\Ant\\.vscode\\extensions\\ms-toolsai.jupyter-2021.8.1236758218\\out\\client\\extension.js:90:336403)"
                    ]
                }
            ],
            "metadata": {}
        }
    ],
    "metadata": {
        "orig_nbformat": 4,
        "language_info": {
            "name": "python",
            "version": "3.9.2",
            "mimetype": "text/x-python",
            "codemirror_mode": {
                "name": "ipython",
                "version": 3
            },
            "pygments_lexer": "ipython3",
            "nbconvert_exporter": "python",
            "file_extension": ".py"
        },
        "kernelspec": {
            "name": "python3",
            "display_name": "Python 3.9.2 64-bit"
        },
        "interpreter": {
            "hash": "d20511710d0ef1b8f61e9561ea7a1dacb95f86736785c369355f9020fcd31a57"
        }
    },
    "nbformat": 4,
    "nbformat_minor": 2
}